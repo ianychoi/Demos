{
  "cells": [
    {
      "metadata": {},
      "cell_type": "markdown",
      "source": "# Azure Cognitive Service Computer Vision SDK for Python\n\nhttps://docs.microsoft.com/en-us/azure/cognitive-services/Computer-vision/quickstarts-sdk/python-sdk\n\n### SDK installation\n\n`pip` command is used to install Python packages. Note that '!' is used to execute a system command."
    },
    {
      "metadata": {
        "trusted": true
      },
      "cell_type": "code",
      "source": "# Uncomment '#' and execute the following command if you have not executed previously\n\n#!pip install azure-cognitiveservices-vision-computervision",
      "execution_count": 1,
      "outputs": [
        {
          "output_type": "stream",
          "text": "Collecting azure-cognitiveservices-vision-computervision\n\u001b[?25l  Downloading https://files.pythonhosted.org/packages/6e/c9/1d9c2a892af3058b7f047de0990d1956e34118666861f8215446d56ffe95/azure_cognitiveservices_vision_computervision-0.3.0-py2.py3-none-any.whl (84kB)\n\u001b[K    100% |████████████████████████████████| 92kB 3.9MB/s ta 0:00:01\n\u001b[?25hRequirement already satisfied: azure-common~=1.1 in /home/nbuser/anaconda3_501/lib/python3.6/site-packages (from azure-cognitiveservices-vision-computervision) (1.1.18)\nRequirement already satisfied: msrest>=0.5.0 in /home/nbuser/anaconda3_501/lib/python3.6/site-packages (from azure-cognitiveservices-vision-computervision) (0.6.4)\nRequirement already satisfied: requests~=2.16 in /home/nbuser/anaconda3_501/lib/python3.6/site-packages (from msrest>=0.5.0->azure-cognitiveservices-vision-computervision) (2.21.0)\nRequirement already satisfied: requests-oauthlib>=0.5.0 in /home/nbuser/anaconda3_501/lib/python3.6/site-packages (from msrest>=0.5.0->azure-cognitiveservices-vision-computervision) (1.2.0)\nRequirement already satisfied: certifi>=2017.4.17 in /home/nbuser/anaconda3_501/lib/python3.6/site-packages (from msrest>=0.5.0->azure-cognitiveservices-vision-computervision) (2018.10.15)\nRequirement already satisfied: isodate>=0.6.0 in /home/nbuser/anaconda3_501/lib/python3.6/site-packages (from msrest>=0.5.0->azure-cognitiveservices-vision-computervision) (0.6.0)\nRequirement already satisfied: chardet<3.1.0,>=3.0.2 in /home/nbuser/anaconda3_501/lib/python3.6/site-packages (from requests~=2.16->msrest>=0.5.0->azure-cognitiveservices-vision-computervision) (3.0.4)\nRequirement already satisfied: idna<2.9,>=2.5 in /home/nbuser/anaconda3_501/lib/python3.6/site-packages (from requests~=2.16->msrest>=0.5.0->azure-cognitiveservices-vision-computervision) (2.7)\nRequirement already satisfied: urllib3<1.25,>=1.21.1 in /home/nbuser/anaconda3_501/lib/python3.6/site-packages (from requests~=2.16->msrest>=0.5.0->azure-cognitiveservices-vision-computervision) (1.23)\nRequirement already satisfied: oauthlib>=3.0.0 in /home/nbuser/anaconda3_501/lib/python3.6/site-packages (from requests-oauthlib>=0.5.0->msrest>=0.5.0->azure-cognitiveservices-vision-computervision) (3.0.1)\nRequirement already satisfied: six in /home/nbuser/anaconda3_501/lib/python3.6/site-packages (from isodate>=0.6.0->msrest>=0.5.0->azure-cognitiveservices-vision-computervision) (1.11.0)\nInstalling collected packages: azure-cognitiveservices-vision-computervision\nSuccessfully installed azure-cognitiveservices-vision-computervision-0.3.0\n",
          "name": "stdout"
        }
      ]
    },
    {
      "metadata": {},
      "cell_type": "markdown",
      "source": "### Getting credentials for key and endpoint\n\nNote that `Notebook` environment does not support `environment variables` well - recommend to copy & paste endpoint & key from your Azure Portal.\n\n### Creating client"
    },
    {
      "metadata": {
        "trusted": true
      },
      "cell_type": "code",
      "source": "from azure.cognitiveservices.vision.computervision import ComputerVisionClient\nfrom azure.cognitiveservices.vision.computervision.models import VisualFeatureTypes\nfrom msrest.authentication import CognitiveServicesCredentials\n\n# Get endpoint and key from environment variables\nendpoint = 'https://westus.api.cognitive.microsoft.com/'\nkey = '[your subscription key]' # Replace with your subscription key\n\n# Set credentials\ncredentials = CognitiveServicesCredentials(key)\n\n# Create client\nclient = ComputerVisionClient(endpoint, credentials)",
      "execution_count": 5,
      "outputs": []
    },
    {
      "metadata": {},
      "cell_type": "markdown",
      "source": "### Example 1: Analyze an image"
    },
    {
      "metadata": {
        "trusted": true
      },
      "cell_type": "code",
      "source": "url = \"https://azurecomcdn.azureedge.net/cvt-dd056dd30ec0bcbe16e12033e0518062de64be7165b3911783d38c31675b27ba/images/shared/cognitive-services-demos/analyze-image/analyze-6.jpg\"\n\nlanguage = \"en\"\nmax_descriptions = 3\n\ntry:\n    image_analysis_image_type = client.analyze_image(url,visual_features=[VisualFeatureTypes.image_type])\n    image_analysis_category = client.analyze_image(url,visual_features=[VisualFeatureTypes.categories])\n    image_analysis_adult = client.analyze_image(url,visual_features=[VisualFeatureTypes.adult])\n    image_analysis_face = client.analyze_image(url,visual_features=[VisualFeatureTypes.faces])\n\n    print(image_analysis_image_type.image_type.as_dict())\n    for category in image_analysis_category.categories:\n        print(category.as_dict())\n    print(image_analysis_adult.adult.as_dict())\n    for face in image_analysis_face.faces:\n        print(face.as_dict())\n\nexcept HTTPFailure as e:\n    if e.status_code == 401:\n        print(\"Error unauthorized. Make sure your key and endpoint are correct.\")\n    else:\n        raise",
      "execution_count": 6,
      "outputs": [
        {
          "output_type": "stream",
          "text": "{'clip_art_type': 0, 'line_drawing_type': 0}\n{'name': 'people_group', 'score': 0.97265625}\n{'is_adult_content': False, 'is_racy_content': False, 'adult_score': 0.0013711383799090981, 'racy_score': 0.0046537225134670734}\n{'age': 43, 'gender': 'Male', 'face_rectangle': {'left': 118, 'top': 159, 'width': 95, 'height': 95}}\n{'age': 54, 'gender': 'Male', 'face_rectangle': {'left': 490, 'top': 111, 'width': 91, 'height': 91}}\n{'age': 56, 'gender': 'Female', 'face_rectangle': {'left': 19, 'top': 155, 'width': 82, 'height': 82}}\n{'age': 33, 'gender': 'Female', 'face_rectangle': {'left': 386, 'top': 166, 'width': 81, 'height': 81}}\n{'age': 17, 'gender': 'Female', 'face_rectangle': {'left': 235, 'top': 159, 'width': 76, 'height': 76}}\n{'age': 7, 'gender': 'Female', 'face_rectangle': {'left': 323, 'top': 163, 'width': 68, 'height': 68}}\n",
          "name": "stdout"
        }
      ]
    },
    {
      "metadata": {},
      "cell_type": "markdown",
      "source": "### Example 2: Get text from image"
    },
    {
      "metadata": {
        "trusted": true
      },
      "cell_type": "code",
      "source": "# import models\nfrom azure.cognitiveservices.vision.computervision.models import TextRecognitionMode\nfrom azure.cognitiveservices.vision.computervision.models import TextOperationStatusCodes\nimport time\n\nurl = \"https://azurecomcdn.azureedge.net/cvt-dd056dd30ec0bcbe16e12033e0518062de64be7165b3911783d38c31675b27ba/images/shared/cognitive-services-demos/read-text/read-2.jpg\"\nmode = TextRecognitionMode.printed\nraw = True\ncustom_headers = None\nnumberOfCharsInOperationId = 36\n\n# Async SDK call\nrawHttpResponse = client.batch_read_file(url, mode, custom_headers,  raw)\n\n# Get ID from returned headers\noperationLocation = rawHttpResponse.headers[\"Operation-Location\"]\nidLocation = len(operationLocation) - numberOfCharsInOperationId\noperationId = operationLocation[idLocation:]\n\n# SDK call\nwhile True:\n    result = client.get_read_operation_result(operationId)\n    if result.status not in ['NotStarted', 'Running']:\n        break\n    time.sleep(1)\n\n# Get data\nif result.status == TextOperationStatusCodes.succeeded:\n    for textResult in result.recognition_results:\n        for line in textResult.lines:\n            print(line.text)\n            #print(line.bounding_box)",
      "execution_count": 7,
      "outputs": [
        {
          "output_type": "stream",
          "text": "CLOSED\nWHEN ONE DOOR CLOSES, ANOTHER\nOPENS.ALL YOU HAVE TO DO IS WALK IN\n",
          "name": "stdout"
        }
      ]
    }
  ],
  "metadata": {
    "kernelspec": {
      "name": "python36",
      "display_name": "Python 3.6",
      "language": "python"
    },
    "language_info": {
      "mimetype": "text/x-python",
      "nbconvert_exporter": "python",
      "name": "python",
      "pygments_lexer": "ipython3",
      "version": "3.6.6",
      "file_extension": ".py",
      "codemirror_mode": {
        "version": 3,
        "name": "ipython"
      }
    }
  },
  "nbformat": 4,
  "nbformat_minor": 2
}